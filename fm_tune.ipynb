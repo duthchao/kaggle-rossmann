{
 "cells": [
  {
   "cell_type": "code",
   "execution_count": 19,
   "metadata": {
    "collapsed": true
   },
   "outputs": [],
   "source": [
    "import pandas as pd\n",
    "import numpy as np"
   ]
  },
  {
   "cell_type": "code",
   "execution_count": 20,
   "metadata": {
    "collapsed": true
   },
   "outputs": [],
   "source": [
    "from zipfile import ZipFile"
   ]
  },
  {
   "cell_type": "code",
   "execution_count": 21,
   "metadata": {
    "collapsed": false
   },
   "outputs": [],
   "source": [
    "from sklearn.feature_extraction import DictVectorizer"
   ]
  },
  {
   "cell_type": "code",
   "execution_count": 22,
   "metadata": {
    "collapsed": true
   },
   "outputs": [],
   "source": [
    "from sklearn.datasets import dump_svmlight_file\n",
    "from sklearn import cross_validation"
   ]
  },
  {
   "cell_type": "code",
   "execution_count": 23,
   "metadata": {
    "collapsed": true
   },
   "outputs": [],
   "source": [
    "from sklearn import linear_model\n",
    "from sklearn import ensemble\n",
    "from sklearn import cross_validation\n",
    "from sklearn import grid_search"
   ]
  },
  {
   "cell_type": "code",
   "execution_count": 24,
   "metadata": {
    "collapsed": true
   },
   "outputs": [],
   "source": [
    "def gen_store_feat(log=True):\n",
    "    df_store = pd.read_csv('./data/store.csv')\n",
    "    if log:\n",
    "        df_store.CompetitionDistance.fillna(df_store.CompetitionDistance.mean(),inplace=True)\n",
    "        df_store.loc[:,'CompetitionDistance'] = df_store.loc[:,'CompetitionDistance'].map(lambda n:int(np.log(n)))\n",
    "    df_store.loc[:,'CompetitionOpenSinceMonth'] = df_store.CompetitionOpenSinceMonth.map(np.isnan)\n",
    "    df_store = df_store[['Store','StoreType','Assortment','CompetitionDistance','CompetitionOpenSinceMonth','Promo2']]\n",
    "    return df_store"
   ]
  },
  {
   "cell_type": "code",
   "execution_count": 25,
   "metadata": {
    "collapsed": true
   },
   "outputs": [],
   "source": [
    "dv = DictVectorizer()"
   ]
  },
  {
   "cell_type": "code",
   "execution_count": 26,
   "metadata": {
    "collapsed": true
   },
   "outputs": [],
   "source": [
    "def gen_X_train(df_store):\n",
    "    z = ZipFile('./data/train.zip','r')\n",
    "    df_train = pd.read_csv(z.open('train.csv'))\n",
    "    df_train = df_train[df_train.Sales!=0]\n",
    "    df_train = df_train[['Store','DayOfWeek','Date','Promo','StateHoliday','SchoolHoliday','Sales']]\n",
    "    df = pd.merge(df_train,df_store,on='Store',how='outer')\n",
    "    y = df.Sales\n",
    "    df = df[[c for c in df.columns if c!='Sales']]\n",
    "    df = df.applymap(str)\n",
    "    X = dv.fit_transform(df.to_dict('records'))\n",
    "    return X,y"
   ]
  },
  {
   "cell_type": "code",
   "execution_count": 27,
   "metadata": {
    "collapsed": true
   },
   "outputs": [],
   "source": [
    "def gen_X_pred():\n",
    "    df_test = pd.read_csv('./data/test.csv')\n",
    "    df_test = df_test[['Id','Store','DayOfWeek','Date','Promo','StateHoliday','SchoolHoliday']]\n",
    "    df = pd.merge(df_test,df_store,on='Store')\n",
    "    df.sort('Id',inplace=True)\n",
    "    id_ = df['Id']\n",
    "    df = df[[col for col in df.columns if col not in ['Id']]]\n",
    "    X_pred = dv.transform(df.applymap(str).to_dict('record'))\n",
    "    return X_pred"
   ]
  },
  {
   "cell_type": "code",
   "execution_count": 28,
   "metadata": {
    "collapsed": true
   },
   "outputs": [],
   "source": [
    "def RMSPE(y_pred,y):\n",
    "    y = np.array(y).astype(np.float64)\n",
    "    return np.sqrt(np.power((1-y_pred/y),2.).mean())    "
   ]
  },
  {
   "cell_type": "code",
   "execution_count": null,
   "metadata": {
    "collapsed": true
   },
   "outputs": [],
   "source": []
  },
  {
   "cell_type": "code",
   "execution_count": null,
   "metadata": {
    "collapsed": true
   },
   "outputs": [],
   "source": [
    "#load features\n",
    "df_store = gen_store_feat()\n",
    "X,y = gen_X_train(df_store)"
   ]
  },
  {
   "cell_type": "code",
   "execution_count": null,
   "metadata": {
    "collapsed": false
   },
   "outputs": [],
   "source": [
    "for tr,te in cross_validation.ShuffleSplit(y.shape[0],n_iter=1,train_size=0.8,test_size=0.2):\n",
    "    X_train,y_train = X[tr],y[tr]\n",
    "    X_test,y_test = X[te],y[te]\n",
    "dump_svmlight_file(X_train,y_train,'train_0.8.libfm')\n",
    "dump_svmlight_file(X_test,y_test,'test_0.2.libfm')"
   ]
  },
  {
   "cell_type": "code",
   "execution_count": 12,
   "metadata": {
    "collapsed": false
   },
   "outputs": [],
   "source": [
    "fm = FM(task='r', train='train_0.9.libfm', test='test_0.1.libfm', dim='1,1,12', save_model='fm')\n",
    "fm.fit()\n",
    "fm.predict(load_model='fm', test='./test_0.1.libfm', out='y_pred')\n",
    "y_pred = pd.read_csv('./y_pred',header=None).values\n",
    "y_pred = y_pred.reshape(1,-1)[0]\n",
    "print('RMSPE :',RMSPE(y_pred,y_test))"
   ]
  },
  {
   "cell_type": "code",
   "execution_count": null,
   "metadata": {
    "collapsed": true
   },
   "outputs": [],
   "source": []
  },
  {
   "cell_type": "code",
   "execution_count": null,
   "metadata": {
    "collapsed": true
   },
   "outputs": [],
   "source": []
  },
  {
   "cell_type": "code",
   "execution_count": null,
   "metadata": {
    "collapsed": true
   },
   "outputs": [],
   "source": []
  }
 ],
 "metadata": {
  "kernelspec": {
   "display_name": "Python 3",
   "language": "python",
   "name": "python3"
  },
  "language_info": {
   "codemirror_mode": {
    "name": "ipython",
    "version": 3
   },
   "file_extension": ".py",
   "mimetype": "text/x-python",
   "name": "python",
   "nbconvert_exporter": "python",
   "pygments_lexer": "ipython3",
   "version": "3.5.0"
  }
 },
 "nbformat": 4,
 "nbformat_minor": 0
}
