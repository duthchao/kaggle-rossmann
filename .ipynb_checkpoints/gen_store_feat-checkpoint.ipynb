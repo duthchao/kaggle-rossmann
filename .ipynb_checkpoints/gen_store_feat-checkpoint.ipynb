{
 "cells": [
  {
   "cell_type": "code",
   "execution_count": 1,
   "metadata": {
    "collapsed": true
   },
   "outputs": [],
   "source": [
    "import pandas as pd\n",
    "import numpy as np"
   ]
  },
  {
   "cell_type": "code",
   "execution_count": 2,
   "metadata": {
    "collapsed": false
   },
   "outputs": [],
   "source": [
    "from zipfile import ZipFile"
   ]
  },
  {
   "cell_type": "code",
   "execution_count": 3,
   "metadata": {
    "collapsed": true
   },
   "outputs": [],
   "source": [
    "from sklearn.feature_extraction import DictVectorizer"
   ]
  },
  {
   "cell_type": "code",
   "execution_count": 4,
   "metadata": {
    "collapsed": false
   },
   "outputs": [],
   "source": [
    "def gen_store_ts_feat():\n",
    "    z = ZipFile('./data/train.zip','r')\n",
    "    df_train = pd.read_csv(z.open('train.csv'))\n",
    "    df_train = df_train[df_train.Open!=0]\n",
    "    y = df_train\n",
    "    df_train = df_train[['Store','DayOfWeek','Date','Promo','StateHoliday','SchoolHoliday','Sales']]\n",
    "    return df_train"
   ]
  },
  {
   "cell_type": "code",
   "execution_count": 5,
   "metadata": {
    "collapsed": false
   },
   "outputs": [],
   "source": [
    "def gen_store_feat(log=True):\n",
    "    df_store = pd.read_csv('./data/store.csv')\n",
    "    if log:\n",
    "        df_store.CompetitionDistance.fillna(df_store.CompetitionDistance.mean(),inplace=True)\n",
    "        df_store.loc[:,'CompetitionDistance'] = df_store.loc[:,'CompetitionDistance'].map(lambda n:int(np.log(n)))\n",
    "    df_store.loc[:,'CompetitionOpenSinceMonth'] = df_store.CompetitionOpenSinceMonth.map(np.isnan)\n",
    "    df_store = df_store[['Store','StoreType','Assortment','CompetitionDistance','CompetitionOpenSinceMonth','Promo2']]\n",
    "    return df_store"
   ]
  },
  {
   "cell_type": "code",
   "execution_count": 89,
   "metadata": {
    "collapsed": false
   },
   "outputs": [],
   "source": [
    "def get_X_y(df_train,df_store,y_log=False):\n",
    "    df = pd.merge(df_train,df_store,on='Store',how='outer')\n",
    "    y = df.Sales\n",
    "    if y_log:\n",
    "        y = np.log1p(y)\n",
    "    df = df[[c for c in df.columns if c!='Sales']]\n",
    "    df = df.applymap(str)\n",
    "    dv = DictVectorizer()\n",
    "    X = dv.fit_transform(df.to_dict('records'))\n",
    "    return X,y"
   ]
  },
  {
   "cell_type": "code",
   "execution_count": null,
   "metadata": {
    "collapsed": true
   },
   "outputs": [],
   "source": []
  },
  {
   "cell_type": "code",
   "execution_count": null,
   "metadata": {
    "collapsed": true
   },
   "outputs": [],
   "source": []
  },
  {
   "cell_type": "code",
   "execution_count": null,
   "metadata": {
    "collapsed": true
   },
   "outputs": [],
   "source": []
  },
  {
   "cell_type": "code",
   "execution_count": 11,
   "metadata": {
    "collapsed": false
   },
   "outputs": [
    {
     "name": "stderr",
     "output_type": "stream",
     "text": [
      "/home/ubuntu/anaconda3/lib/python3.4/site-packages/pandas/io/parsers.py:1159: DtypeWarning: Columns (7) have mixed types. Specify dtype option on import or set low_memory=False.\n",
      "  data = self._reader.read(nrows)\n"
     ]
    }
   ],
   "source": [
    "df_train = gen_store_ts_feat()"
   ]
  },
  {
   "cell_type": "code",
   "execution_count": 12,
   "metadata": {
    "collapsed": true
   },
   "outputs": [],
   "source": [
    "df_store = gen_store_feat()"
   ]
  },
  {
   "cell_type": "code",
   "execution_count": 13,
   "metadata": {
    "collapsed": false
   },
   "outputs": [],
   "source": [
    "X,y = get_X_y(df_train,df_store)"
   ]
  },
  {
   "cell_type": "code",
   "execution_count": 7,
   "metadata": {
    "collapsed": false
   },
   "outputs": [],
   "source": [
    "from sklearn import linear_model\n",
    "from sklearn import ensemble\n",
    "from sklearn import cross_validation\n",
    "from sklearn import grid_search"
   ]
  },
  {
   "cell_type": "code",
   "execution_count": null,
   "metadata": {
    "collapsed": true
   },
   "outputs": [],
   "source": []
  },
  {
   "cell_type": "code",
   "execution_count": 11,
   "metadata": {
    "collapsed": false
   },
   "outputs": [],
   "source": [
    "model = ensemble.RandomForestRegressor(verbose=10)"
   ]
  },
  {
   "cell_type": "code",
   "execution_count": 62,
   "metadata": {
    "collapsed": false
   },
   "outputs": [],
   "source": [
    "ridge = linear_model.Ridge()"
   ]
  },
  {
   "cell_type": "code",
   "execution_count": null,
   "metadata": {
    "collapsed": true
   },
   "outputs": [],
   "source": [
    "ridge = linear_model.Ridge"
   ]
  },
  {
   "cell_type": "code",
   "execution_count": null,
   "metadata": {
    "collapsed": true
   },
   "outputs": [],
   "source": []
  },
  {
   "cell_type": "code",
   "execution_count": 37,
   "metadata": {
    "collapsed": true
   },
   "outputs": [],
   "source": [
    "params = {'alpha':[0.01,0.1,1,10]}"
   ]
  },
  {
   "cell_type": "code",
   "execution_count": 41,
   "metadata": {
    "collapsed": true
   },
   "outputs": [],
   "source": [
    "gs = grid_search.GridSearchCV(ridge,params,cv=3,verbose=10,scoring='mean_squared_error')"
   ]
  },
  {
   "cell_type": "code",
   "execution_count": 39,
   "metadata": {
    "collapsed": false
   },
   "outputs": [
    {
     "name": "stdout",
     "output_type": "stream",
     "text": [
      "Fitting 3 folds for each of 4 candidates, totalling 12 fits\n",
      "[CV] alpha=0.01 ......................................................\n",
      "[CV] ............................. alpha=0.01, score=0.339040 -   0.7s\n",
      "[CV] alpha=0.01 ......................................................\n",
      "[CV] ............................. alpha=0.01, score=0.293418 -   0.8s"
     ]
    },
    {
     "name": "stderr",
     "output_type": "stream",
     "text": [
      "[Parallel(n_jobs=1)]: Done   1 jobs       | elapsed:    0.8s\n",
      "[Parallel(n_jobs=1)]: Done   2 jobs       | elapsed:    1.6s\n"
     ]
    },
    {
     "name": "stdout",
     "output_type": "stream",
     "text": [
      "\n",
      "[CV] alpha=0.01 ......................................................\n",
      "[CV] ............................. alpha=0.01, score=0.278822 -   0.9s\n",
      "[CV] alpha=0.1 .......................................................\n",
      "[CV] .............................. alpha=0.1, score=0.339039 -   1.0s\n",
      "[CV] alpha=0.1 .......................................................\n",
      "[CV] .............................. alpha=0.1, score=0.293379 -   1.0s\n",
      "[CV] alpha=0.1 .......................................................\n",
      "[CV] .............................. alpha=0.1, score=0.278823 -   1.0s\n",
      "[CV] alpha=1 .........................................................\n",
      "[CV] ................................ alpha=1, score=0.339046 -   0.9s\n",
      "[CV] alpha=1 .........................................................\n",
      "[CV] ................................ alpha=1, score=0.293377 -   1.0s"
     ]
    },
    {
     "name": "stderr",
     "output_type": "stream",
     "text": [
      "[Parallel(n_jobs=1)]: Done   5 jobs       | elapsed:    4.6s\n",
      "[Parallel(n_jobs=1)]: Done   8 jobs       | elapsed:    7.5s\n"
     ]
    },
    {
     "name": "stdout",
     "output_type": "stream",
     "text": [
      "\n",
      "[CV] alpha=1 .........................................................\n",
      "[CV] ................................ alpha=1, score=0.278842 -   1.0s\n",
      "[CV] alpha=10 ........................................................\n",
      "[CV] ............................... alpha=10, score=0.339069 -   0.9s\n",
      "[CV] alpha=10 ........................................................\n",
      "[CV] ............................... alpha=10, score=0.293245 -   0.9s\n",
      "[CV] alpha=10 ........................................................\n",
      "[CV] ............................... alpha=10, score=0.278886 -   0.9s\n"
     ]
    },
    {
     "name": "stderr",
     "output_type": "stream",
     "text": [
      "[Parallel(n_jobs=1)]: Done  12 out of  12 | elapsed:   11.4s finished\n"
     ]
    },
    {
     "data": {
      "text/plain": [
       "GridSearchCV(cv=3,\n",
       "       estimator=Ridge(alpha=1.0, copy_X=True, fit_intercept=True, max_iter=None,\n",
       "   normalize=False, solver='auto', tol=0.001),\n",
       "       fit_params={}, iid=True, loss_func=None, n_jobs=1,\n",
       "       param_grid={'alpha': [0.01, 0.1, 1, 10]}, pre_dispatch='2*n_jobs',\n",
       "       refit=True, score_func=None, scoring=None, verbose=10)"
      ]
     },
     "execution_count": 39,
     "metadata": {},
     "output_type": "execute_result"
    }
   ],
   "source": [
    "gs.fit(X,y)"
   ]
  },
  {
   "cell_type": "code",
   "execution_count": 40,
   "metadata": {
    "collapsed": false
   },
   "outputs": [
    {
     "data": {
      "text/plain": [
       "[mean: 0.30376, std: 0.02565, params: {'alpha': 0.01},\n",
       " mean: 0.30375, std: 0.02565, params: {'alpha': 0.1},\n",
       " mean: 0.30375, std: 0.02565, params: {'alpha': 1},\n",
       " mean: 0.30373, std: 0.02566, params: {'alpha': 10}]"
      ]
     },
     "execution_count": 40,
     "metadata": {},
     "output_type": "execute_result"
    }
   ],
   "source": [
    "gs.grid_scores_"
   ]
  },
  {
   "cell_type": "code",
   "execution_count": 42,
   "metadata": {
    "collapsed": true
   },
   "outputs": [],
   "source": [
    "gs = grid_search.GridSearchCV(ridge,params,cv=3,verbose=10,scoring='mean_squared_error')"
   ]
  },
  {
   "cell_type": "code",
   "execution_count": 43,
   "metadata": {
    "collapsed": false
   },
   "outputs": [
    {
     "name": "stdout",
     "output_type": "stream",
     "text": [
      "Fitting 3 folds for each of 4 candidates, totalling 12 fits\n",
      "[CV] alpha=0.01 ......................................................\n",
      "[CV] ...................... alpha=0.01, score=-5656479.799161 -   1.0s\n",
      "[CV] alpha=0.01 ......................................................\n",
      "[CV] ...................... alpha=0.01, score=-7465279.069628 -   1.0s"
     ]
    },
    {
     "name": "stderr",
     "output_type": "stream",
     "text": [
      "[Parallel(n_jobs=1)]: Done   1 jobs       | elapsed:    1.0s\n",
      "[Parallel(n_jobs=1)]: Done   2 jobs       | elapsed:    2.0s\n"
     ]
    },
    {
     "name": "stdout",
     "output_type": "stream",
     "text": [
      "\n",
      "[CV] alpha=0.01 ......................................................\n",
      "[CV] ...................... alpha=0.01, score=-7018103.784966 -   1.0s\n",
      "[CV] alpha=0.1 .......................................................\n",
      "[CV] ....................... alpha=0.1, score=-5656489.351568 -   0.9s\n",
      "[CV] alpha=0.1 .......................................................\n",
      "[CV] ....................... alpha=0.1, score=-7465689.745671 -   1.0s\n",
      "[CV] alpha=0.1 .......................................................\n",
      "[CV] ....................... alpha=0.1, score=-7018099.273918 -   1.0s\n",
      "[CV] alpha=1 .........................................................\n",
      "[CV] ......................... alpha=1, score=-5656429.754411 -   1.0s\n",
      "[CV] alpha=1 .........................................................\n",
      "[CV] ......................... alpha=1, score=-7465711.187351 -   1.0s"
     ]
    },
    {
     "name": "stderr",
     "output_type": "stream",
     "text": [
      "[Parallel(n_jobs=1)]: Done   5 jobs       | elapsed:    4.9s\n",
      "[Parallel(n_jobs=1)]: Done   8 jobs       | elapsed:    7.9s\n"
     ]
    },
    {
     "name": "stdout",
     "output_type": "stream",
     "text": [
      "\n",
      "[CV] alpha=1 .........................................................\n",
      "[CV] ......................... alpha=1, score=-7017909.598660 -   1.0s\n",
      "[CV] alpha=10 ........................................................\n",
      "[CV] ........................ alpha=10, score=-5656228.748996 -   1.0s\n",
      "[CV] alpha=10 ........................................................\n",
      "[CV] ........................ alpha=10, score=-7467102.531315 -   0.9s\n",
      "[CV] alpha=10 ........................................................\n",
      "[CV] ........................ alpha=10, score=-7017477.765778 -   1.0s\n"
     ]
    },
    {
     "name": "stderr",
     "output_type": "stream",
     "text": [
      "[Parallel(n_jobs=1)]: Done  12 out of  12 | elapsed:   11.8s finished\n"
     ]
    },
    {
     "data": {
      "text/plain": [
       "GridSearchCV(cv=3,\n",
       "       estimator=Ridge(alpha=1.0, copy_X=True, fit_intercept=True, max_iter=None,\n",
       "   normalize=False, solver='auto', tol=0.001),\n",
       "       fit_params={}, iid=True, loss_func=None, n_jobs=1,\n",
       "       param_grid={'alpha': [0.01, 0.1, 1, 10]}, pre_dispatch='2*n_jobs',\n",
       "       refit=True, score_func=None, scoring='mean_squared_error',\n",
       "       verbose=10)"
      ]
     },
     "execution_count": 43,
     "metadata": {},
     "output_type": "execute_result"
    }
   ],
   "source": [
    "gs.fit(X,y)"
   ]
  },
  {
   "cell_type": "code",
   "execution_count": 44,
   "metadata": {
    "collapsed": false
   },
   "outputs": [
    {
     "data": {
      "text/plain": [
       "Ridge(alpha=1.0, copy_X=True, fit_intercept=True, max_iter=None,\n",
       "   normalize=False, solver='auto', tol=0.001)"
      ]
     },
     "execution_count": 44,
     "metadata": {},
     "output_type": "execute_result"
    }
   ],
   "source": [
    "ridge.fit(X,y)"
   ]
  },
  {
   "cell_type": "code",
   "execution_count": 13,
   "metadata": {
    "collapsed": true
   },
   "outputs": [],
   "source": [
    "rf = ensemble.RandomForestRegressor?"
   ]
  },
  {
   "cell_type": "code",
   "execution_count": 21,
   "metadata": {
    "collapsed": true
   },
   "outputs": [],
   "source": [
    "rf = ensemble.RandomForestRegressor(10,n_jobs=-1,verbose=10)"
   ]
  },
  {
   "cell_type": "code",
   "execution_count": 10,
   "metadata": {
    "collapsed": false
   },
   "outputs": [
    {
     "ename": "NameError",
     "evalue": "name 'X' is not defined",
     "output_type": "error",
     "traceback": [
      "\u001b[1;31m---------------------------------------------------------------------------\u001b[0m",
      "\u001b[1;31mNameError\u001b[0m                                 Traceback (most recent call last)",
      "\u001b[1;32m<ipython-input-10-cbe6651f73ae>\u001b[0m in \u001b[0;36m<module>\u001b[1;34m()\u001b[0m\n\u001b[1;32m----> 1\u001b[1;33m \u001b[0mrf\u001b[0m\u001b[1;33m.\u001b[0m\u001b[0mfit\u001b[0m\u001b[1;33m(\u001b[0m\u001b[0mX\u001b[0m\u001b[1;33m,\u001b[0m\u001b[0my\u001b[0m\u001b[1;33m)\u001b[0m\u001b[1;33m\u001b[0m\u001b[0m\n\u001b[0m",
      "\u001b[1;31mNameError\u001b[0m: name 'X' is not defined"
     ]
    }
   ],
   "source": [
    "rf.fit(X,y)"
   ]
  },
  {
   "cell_type": "code",
   "execution_count": 17,
   "metadata": {
    "collapsed": false
   },
   "outputs": [],
   "source": [
    "cross_validation.train_test_split?"
   ]
  },
  {
   "cell_type": "code",
   "execution_count": 18,
   "metadata": {
    "collapsed": true
   },
   "outputs": [],
   "source": [
    "X_train, X_test, y_train, y_test = cross_validation.train_test_split(X,y,train_size=0.1,test_size=0.01)"
   ]
  },
  {
   "cell_type": "code",
   "execution_count": 41,
   "metadata": {
    "collapsed": false
   },
   "outputs": [],
   "source": [
    "rf = ensemble.RandomForestRegressor(n_jobs=-1)"
   ]
  },
  {
   "cell_type": "code",
   "execution_count": 48,
   "metadata": {
    "collapsed": false
   },
   "outputs": [],
   "source": [
    "params = {'n_estimators':[10],\n",
    "          'max_depth':[20,30,40],\n",
    "          'min_samples_split':[5]}"
   ]
  },
  {
   "cell_type": "code",
   "execution_count": 49,
   "metadata": {
    "collapsed": false
   },
   "outputs": [],
   "source": [
    "gs = grid_search.GridSearchCV(rf,params,n_jobs=-1,refit=False,scoring='mean_squared_error',verbose=10)"
   ]
  },
  {
   "cell_type": "code",
   "execution_count": 50,
   "metadata": {
    "collapsed": false
   },
   "outputs": [
    {
     "name": "stdout",
     "output_type": "stream",
     "text": [
      "Fitting 3 folds for each of 3 candidates, totalling 9 fits\n"
     ]
    },
    {
     "name": "stderr",
     "output_type": "stream",
     "text": [
      "[Parallel(n_jobs=-1)]: Done  10 out of   9 | elapsed:    7.2s remaining:   -0.7s\n",
      "[Parallel(n_jobs=-1)]: Done  10 out of   9 | elapsed:   10.7s remaining:   -1.1s\n",
      "[Parallel(n_jobs=-1)]: Done  10 out of   9 | elapsed:   18.4s remaining:   -1.8s\n",
      "[Parallel(n_jobs=-1)]: Done  10 out of   9 | elapsed:   18.4s remaining:   -1.8s\n",
      "[Parallel(n_jobs=-1)]: Done  10 out of   9 | elapsed:   22.8s remaining:   -2.3s\n",
      "[Parallel(n_jobs=-1)]: Done  10 out of   9 | elapsed:   24.6s remaining:   -2.5s\n",
      "[Parallel(n_jobs=-1)]: Done  10 out of   9 | elapsed:   26.0s remaining:   -2.6s\n",
      "[Parallel(n_jobs=-1)]: Done   9 out of   9 | elapsed:   26.0s finished\n"
     ]
    },
    {
     "name": "stdout",
     "output_type": "stream",
     "text": [
      "[CV] max_depth=20, min_samples_split=5, n_estimators=10 ..............\n",
      "[CV] max_depth=20, min_samples_split=5, n_estimators=10 ..............\n",
      "[CV] max_depth=20, min_samples_split=5, n_estimators=10 ..............\n",
      "[CV] max_depth=30, min_samples_split=5, n_estimators=10 ..............\n",
      "[CV]  max_depth=20, min_samples_split=5, n_estimators=10, score=-5206051.201368 -   7.0s[CV]  max_depth=20, min_samples_split=5, n_estimators=10, score=-5235194.834107 -   6.9s[CV]  max_depth=20, min_samples_split=5, n_estimators=10, score=-5013340.502953 -   7.0s[CV]  max_depth=30, min_samples_split=5, n_estimators=10, score=-4378678.768127 -  10.6s\n",
      "\n",
      "\n",
      "\n",
      "[CV] max_depth=30, min_samples_split=5, n_estimators=10 ..............\n",
      "[CV] max_depth=30, min_samples_split=5, n_estimators=10 ..............\n",
      "[CV] max_depth=40, min_samples_split=5, n_estimators=10 ..............\n",
      "[CV] max_depth=40, min_samples_split=5, n_estimators=10 ..............\n",
      "[CV]  max_depth=30, min_samples_split=5, n_estimators=10, score=-4332498.953349 -  11.3s[CV]  max_depth=30, min_samples_split=5, n_estimators=10, score=-4420549.536845 -  11.4s[CV]  max_depth=40, min_samples_split=5, n_estimators=10, score=-3622751.659957 -  15.6s[CV]  max_depth=40, min_samples_split=5, n_estimators=10, score=-3640240.453034 -  13.8s\n",
      "\n",
      "\n",
      "\n",
      "[CV] max_depth=40, min_samples_split=5, n_estimators=10 ..............\n",
      "[CV]  max_depth=40, min_samples_split=5, n_estimators=10, score=-3558233.812907 -   7.6s\n"
     ]
    },
    {
     "data": {
      "text/plain": [
       "GridSearchCV(cv=None, error_score='raise',\n",
       "       estimator=RandomForestRegressor(bootstrap=True, criterion='mse', max_depth=None,\n",
       "           max_features='auto', max_leaf_nodes=None, min_samples_leaf=1,\n",
       "           min_samples_split=2, min_weight_fraction_leaf=0.0,\n",
       "           n_estimators=10, n_jobs=-1, oob_score=False, random_state=None,\n",
       "           verbose=0, warm_start=False),\n",
       "       fit_params={}, iid=True, n_jobs=-1,\n",
       "       param_grid={'max_depth': [20, 30, 40], 'min_samples_split': [5], 'n_estimators': [10]},\n",
       "       pre_dispatch='2*n_jobs', refit=False, scoring='mean_squared_error',\n",
       "       verbose=10)"
      ]
     },
     "execution_count": 50,
     "metadata": {},
     "output_type": "execute_result"
    }
   ],
   "source": [
    "gs.fit(X_train,y_train)"
   ]
  },
  {
   "cell_type": "code",
   "execution_count": 51,
   "metadata": {
    "collapsed": false
   },
   "outputs": [
    {
     "data": {
      "text/plain": [
       "[mean: -5151529.49184, std: 98435.60155, params: {'max_depth': 20, 'min_samples_split': 5, 'n_estimators': 10},\n",
       " mean: -4377242.43645, std: 35960.84571, params: {'max_depth': 30, 'min_samples_split': 5, 'n_estimators': 10},\n",
       " mean: -3607075.49429, std: 35266.44533, params: {'max_depth': 40, 'min_samples_split': 5, 'n_estimators': 10}]"
      ]
     },
     "execution_count": 51,
     "metadata": {},
     "output_type": "execute_result"
    }
   ],
   "source": [
    "gs.grid_scores_"
   ]
  },
  {
   "cell_type": "code",
   "execution_count": 52,
   "metadata": {
    "collapsed": false
   },
   "outputs": [
    {
     "name": "stdout",
     "output_type": "stream",
     "text": [
      "Fitting 3 folds for each of 2 candidates, totalling 6 fits\n"
     ]
    },
    {
     "name": "stderr",
     "output_type": "stream",
     "text": [
      "[Parallel(n_jobs=-1)]: Done   7 out of   6 | elapsed:  1.4min remaining:  -12.0s\n",
      "[Parallel(n_jobs=-1)]: Done   7 out of   6 | elapsed:  1.4min remaining:  -12.1s\n",
      "[Parallel(n_jobs=-1)]: Done   7 out of   6 | elapsed:  2.2min remaining:  -19.1s\n",
      "[Parallel(n_jobs=-1)]: Done   7 out of   6 | elapsed:  3.0min remaining:  -25.5s\n",
      "[Parallel(n_jobs=-1)]: Done   7 out of   6 | elapsed:  3.0min remaining:  -25.6s\n",
      "[Parallel(n_jobs=-1)]: Done   6 out of   6 | elapsed:  3.0min finished\n"
     ]
    },
    {
     "name": "stdout",
     "output_type": "stream",
     "text": [
      "[CV] max_depth=None, min_samples_split=5, n_estimators=10 ............\n",
      "[CV] max_depth=None, min_samples_split=5, n_estimators=10 ............\n",
      "[CV] max_depth=None, min_samples_split=5, n_estimators=10 ............\n",
      "[CV] max_depth=None, min_samples_split=5, n_estimators=20 ............\n",
      "[CV]  max_depth=None, min_samples_split=5, n_estimators=10, score=-1622219.173884 - 1.4min[CV]  max_depth=None, min_samples_split=5, n_estimators=10, score=-1570040.234799 - 1.4min[CV]  max_depth=None, min_samples_split=5, n_estimators=10, score=-1513787.343028 - 1.4min[CV]  max_depth=None, min_samples_split=5, n_estimators=20, score=-1572284.414956 - 2.2min\n",
      "\n",
      "\n",
      "\n",
      "[CV] max_depth=None, min_samples_split=5, n_estimators=20 ............\n",
      "[CV] max_depth=None, min_samples_split=5, n_estimators=20 ............\n",
      "[CV]  max_depth=None, min_samples_split=5, n_estimators=20, score=-1505592.787031 - 1.6min[CV]  max_depth=None, min_samples_split=5, n_estimators=20, score=-1477772.260628 - 1.6min\n",
      "\n"
     ]
    },
    {
     "data": {
      "text/plain": [
       "GridSearchCV(cv=None, error_score='raise',\n",
       "       estimator=RandomForestRegressor(bootstrap=True, criterion='mse', max_depth=None,\n",
       "           max_features='auto', max_leaf_nodes=None, min_samples_leaf=1,\n",
       "           min_samples_split=2, min_weight_fraction_leaf=0.0,\n",
       "           n_estimators=10, n_jobs=-1, oob_score=False, random_state=None,\n",
       "           verbose=0, warm_start=False),\n",
       "       fit_params={}, iid=True, n_jobs=-1,\n",
       "       param_grid={'max_depth': [None], 'min_samples_split': [5], 'n_estimators': [10, 20]},\n",
       "       pre_dispatch='2*n_jobs', refit=False, scoring='mean_squared_error',\n",
       "       verbose=10)"
      ]
     },
     "execution_count": 52,
     "metadata": {},
     "output_type": "execute_result"
    }
   ],
   "source": [
    "params = {'n_estimators':[10,20],\n",
    "          'max_depth':[None],\n",
    "          'min_samples_split':[5]}\n",
    "gs = grid_search.GridSearchCV(rf,params,n_jobs=-1,refit=False,scoring='mean_squared_error',verbose=10)\n",
    "gs.fit(X_train,y_train)"
   ]
  },
  {
   "cell_type": "code",
   "execution_count": 53,
   "metadata": {
    "collapsed": false
   },
   "outputs": [
    {
     "name": "stdout",
     "output_type": "stream",
     "text": [
      "Fitting 3 folds for each of 2 candidates, totalling 6 fits\n"
     ]
    },
    {
     "name": "stderr",
     "output_type": "stream",
     "text": [
      "[Parallel(n_jobs=-1)]: Done   7 out of   6 | elapsed:  1.6min remaining:  -14.1s\n",
      "[Parallel(n_jobs=-1)]: Done   7 out of   6 | elapsed:  1.7min remaining:  -14.2s\n",
      "[Parallel(n_jobs=-1)]: Done   7 out of   6 | elapsed:  1.7min remaining:  -14.2s\n",
      "[Parallel(n_jobs=-1)]: Done   7 out of   6 | elapsed:  2.2min remaining:  -18.8s\n",
      "[Parallel(n_jobs=-1)]: Done   7 out of   6 | elapsed:  2.2min remaining:  -19.2s\n",
      "[Parallel(n_jobs=-1)]: Done   6 out of   6 | elapsed:  2.2min finished\n"
     ]
    },
    {
     "name": "stdout",
     "output_type": "stream",
     "text": [
      "[CV] max_depth=None, min_samples_split=2, n_estimators=10 ............\n",
      "[CV] max_depth=None, min_samples_split=2, n_estimators=10 ............\n",
      "[CV] max_depth=None, min_samples_split=2, n_estimators=10 ............\n",
      "[CV] max_depth=None, min_samples_split=5, n_estimators=10 ............\n",
      "[CV]  max_depth=None, min_samples_split=2, n_estimators=10, score=-1643685.387927 - 1.7min[CV]  max_depth=None, min_samples_split=2, n_estimators=10, score=-1583355.371849 - 1.7min[CV]  max_depth=None, min_samples_split=2, n_estimators=10, score=-1527490.244739 - 1.6min[CV]  max_depth=None, min_samples_split=5, n_estimators=10, score=-1622219.173884 - 1.4min\n",
      "\n",
      "\n",
      "\n",
      "[CV] max_depth=None, min_samples_split=5, n_estimators=10 ............\n",
      "[CV] max_depth=None, min_samples_split=5, n_estimators=10 ............\n",
      "[CV]  max_depth=None, min_samples_split=5, n_estimators=10, score=-1552934.439042 -  45.4s[CV]  max_depth=None, min_samples_split=5, n_estimators=10, score=-1527200.873323 -  35.6s\n",
      "\n"
     ]
    },
    {
     "data": {
      "text/plain": [
       "GridSearchCV(cv=None, error_score='raise',\n",
       "       estimator=RandomForestRegressor(bootstrap=True, criterion='mse', max_depth=None,\n",
       "           max_features='auto', max_leaf_nodes=None, min_samples_leaf=1,\n",
       "           min_samples_split=2, min_weight_fraction_leaf=0.0,\n",
       "           n_estimators=10, n_jobs=-1, oob_score=False, random_state=None,\n",
       "           verbose=0, warm_start=False),\n",
       "       fit_params={}, iid=True, n_jobs=-1,\n",
       "       param_grid={'max_depth': [None], 'min_samples_split': [2, 5], 'n_estimators': [10]},\n",
       "       pre_dispatch='2*n_jobs', refit=False, scoring='mean_squared_error',\n",
       "       verbose=10)"
      ]
     },
     "execution_count": 53,
     "metadata": {},
     "output_type": "execute_result"
    }
   ],
   "source": [
    "params = {'n_estimators':[10],\n",
    "          'max_depth':[None],\n",
    "          'min_samples_split':[2,5]}\n",
    "gs = grid_search.GridSearchCV(rf,params,n_jobs=-1,refit=False,scoring='mean_squared_error',verbose=10)\n",
    "gs.fit(X_train,y_train)"
   ]
  },
  {
   "cell_type": "code",
   "execution_count": 58,
   "metadata": {
    "collapsed": false
   },
   "outputs": [
    {
     "name": "stdout",
     "output_type": "stream",
     "text": [
      "Fitting 1 folds for each of 1 candidates, totalling 1 fits\n",
      "[CV] max_depth=None, min_samples_split=2, n_estimators=10 ............\n",
      "[CV]  max_depth=None, min_samples_split=2, n_estimators=10, score=-1346696.882927 - 2.8min\n"
     ]
    },
    {
     "name": "stderr",
     "output_type": "stream",
     "text": [
      "[Parallel(n_jobs=-1)]: Done   1 tasks      | elapsed:  2.8min\n",
      "[Parallel(n_jobs=-1)]: Done   1 out of   1 | elapsed:  2.8min finished\n"
     ]
    },
    {
     "data": {
      "text/plain": [
       "GridSearchCV(cv=ShuffleSplit(844392, n_iter=1, test_size=0.1, random_state=None),\n",
       "       error_score='raise',\n",
       "       estimator=RandomForestRegressor(bootstrap=True, criterion='mse', max_depth=None,\n",
       "           max_features='auto', max_leaf_nodes=None, min_samples_leaf=1,\n",
       "           min_samples_split=2, min_weight_fraction_leaf=0.0,\n",
       "           n_estimators=10, n_jobs=-1, oob_score=False, random_state=None,\n",
       "           verbose=0, warm_start=False),\n",
       "       fit_params={}, iid=True, n_jobs=-1,\n",
       "       param_grid={'max_depth': [None], 'min_samples_split': [2], 'n_estimators': [10]},\n",
       "       pre_dispatch='2*n_jobs', refit=False, scoring='mean_squared_error',\n",
       "       verbose=10)"
      ]
     },
     "execution_count": 58,
     "metadata": {},
     "output_type": "execute_result"
    }
   ],
   "source": [
    "params = {'n_estimators':[10],\n",
    "          'max_depth':[None],\n",
    "          'min_samples_split':[2]}\n",
    "gs = grid_search.GridSearchCV(rf,params,n_jobs=-1,refit=False,\n",
    "                              cv=cross_validation.ShuffleSplit(y.shape[0],n_iter=1,train_size=0.3,test_size=0.1),\n",
    "                              scoring='mean_squared_error',verbose=10)\n",
    "gs.fit(X,y)"
   ]
  },
  {
   "cell_type": "code",
   "execution_count": 59,
   "metadata": {
    "collapsed": false
   },
   "outputs": [
    {
     "name": "stdout",
     "output_type": "stream",
     "text": [
      "Fitting 1 folds for each of 1 candidates, totalling 1 fits\n",
      "[CV] max_depth=20, min_samples_split=2, n_estimators=10 ..............\n",
      "[CV]  max_depth=20, min_samples_split=2, n_estimators=10, score=-5095163.158185 -  39.0s\n"
     ]
    },
    {
     "name": "stderr",
     "output_type": "stream",
     "text": [
      "[Parallel(n_jobs=-1)]: Done   1 tasks      | elapsed:   39.2s\n",
      "[Parallel(n_jobs=-1)]: Done   1 out of   1 | elapsed:   39.2s finished\n"
     ]
    },
    {
     "data": {
      "text/plain": [
       "GridSearchCV(cv=ShuffleSplit(844392, n_iter=1, test_size=0.2, random_state=None),\n",
       "       error_score='raise',\n",
       "       estimator=RandomForestRegressor(bootstrap=True, criterion='mse', max_depth=None,\n",
       "           max_features='auto', max_leaf_nodes=None, min_samples_leaf=1,\n",
       "           min_samples_split=2, min_weight_fraction_leaf=0.0,\n",
       "           n_estimators=10, n_jobs=-1, oob_score=False, random_state=None,\n",
       "           verbose=0, warm_start=False),\n",
       "       fit_params={}, iid=True, n_jobs=-1,\n",
       "       param_grid={'max_depth': [20], 'min_samples_split': [2], 'n_estimators': [10]},\n",
       "       pre_dispatch='2*n_jobs', refit=False, scoring='mean_squared_error',\n",
       "       verbose=10)"
      ]
     },
     "execution_count": 59,
     "metadata": {},
     "output_type": "execute_result"
    }
   ],
   "source": [
    "params = {'n_estimators':[10],\n",
    "          'max_depth':[20],\n",
    "          'min_samples_split':[2]}\n",
    "gs = grid_search.GridSearchCV(rf,params,n_jobs=-1,refit=False,\n",
    "                              cv=cross_validation.ShuffleSplit(y.shape[0],n_iter=1,train_size=0.8,test_size=0.2),\n",
    "                              scoring='mean_squared_error',verbose=10)\n",
    "gs.fit(X,y)"
   ]
  },
  {
   "cell_type": "code",
   "execution_count": 60,
   "metadata": {
    "collapsed": false
   },
   "outputs": [
    {
     "name": "stdout",
     "output_type": "stream",
     "text": [
      "Fitting 1 folds for each of 3 candidates, totalling 3 fits\n"
     ]
    },
    {
     "name": "stderr",
     "output_type": "stream",
     "text": [
      "[Parallel(n_jobs=-1)]: Done   4 out of   3 | elapsed:  4.6min remaining:  -68.6s\n",
      "[Parallel(n_jobs=-1)]: Done   4 out of   3 | elapsed:  6.3min remaining:  -94.6s\n",
      "[Parallel(n_jobs=-1)]: Done   3 out of   3 | elapsed:  6.3min finished\n"
     ]
    },
    {
     "name": "stdout",
     "output_type": "stream",
     "text": [
      "[CV] max_depth=20, min_samples_split=2, n_estimators=10 ..............\n",
      "[CV] max_depth=40, min_samples_split=2, n_estimators=10 ..............\n",
      "[CV] max_depth=60, min_samples_split=2, n_estimators=10 ..............\n",
      "[CV]  max_depth=20, min_samples_split=2, n_estimators=10, score=-5085682.756069 - 2.2min[CV]  max_depth=40, min_samples_split=2, n_estimators=10, score=-3546387.378112 - 4.6min[CV]  max_depth=60, min_samples_split=2, n_estimators=10, score=-2464644.961861 - 6.3min\n",
      "\n",
      "\n"
     ]
    },
    {
     "data": {
      "text/plain": [
       "GridSearchCV(cv=ShuffleSplit(844392, n_iter=1, test_size=0.2, random_state=None),\n",
       "       error_score='raise',\n",
       "       estimator=RandomForestRegressor(bootstrap=True, criterion='mse', max_depth=None,\n",
       "           max_features='auto', max_leaf_nodes=None, min_samples_leaf=1,\n",
       "           min_samples_split=2, min_weight_fraction_leaf=0.0,\n",
       "           n_estimators=10, n_jobs=-1, oob_score=False, random_state=None,\n",
       "           verbose=0, warm_start=False),\n",
       "       fit_params={}, iid=True, n_jobs=-1,\n",
       "       param_grid={'max_depth': [20, 40, 60], 'min_samples_split': [2], 'n_estimators': [10]},\n",
       "       pre_dispatch='2*n_jobs', refit=False, scoring='mean_squared_error',\n",
       "       verbose=10)"
      ]
     },
     "execution_count": 60,
     "metadata": {},
     "output_type": "execute_result"
    }
   ],
   "source": [
    "params = {'n_estimators':[10],\n",
    "          'max_depth':[20,40,60],\n",
    "          'min_samples_split':[2]}\n",
    "gs = grid_search.GridSearchCV(rf,params,n_jobs=-1,refit=False,\n",
    "                              cv=cross_validation.ShuffleSplit(y.shape[0],n_iter=1,train_size=0.8,test_size=0.2),\n",
    "                              scoring='mean_squared_error',verbose=10)\n",
    "gs.fit(X,y)"
   ]
  },
  {
   "cell_type": "code",
   "execution_count": 61,
   "metadata": {
    "collapsed": false
   },
   "outputs": [
    {
     "data": {
      "text/plain": [
       "[mean: -5085682.75607, std: 0.00000, params: {'max_depth': 20, 'min_samples_split': 2, 'n_estimators': 10},\n",
       " mean: -3546387.37811, std: 0.00000, params: {'max_depth': 40, 'min_samples_split': 2, 'n_estimators': 10},\n",
       " mean: -2464644.96186, std: 0.00000, params: {'max_depth': 60, 'min_samples_split': 2, 'n_estimators': 10}]"
      ]
     },
     "execution_count": 61,
     "metadata": {},
     "output_type": "execute_result"
    }
   ],
   "source": [
    "gs.grid_scores_"
   ]
  },
  {
   "cell_type": "code",
   "execution_count": null,
   "metadata": {
    "collapsed": true
   },
   "outputs": [],
   "source": []
  },
  {
   "cell_type": "code",
   "execution_count": 66,
   "metadata": {
    "collapsed": true
   },
   "outputs": [],
   "source": [
    "ridge = linear_model.Ridge()"
   ]
  },
  {
   "cell_type": "code",
   "execution_count": 67,
   "metadata": {
    "collapsed": false
   },
   "outputs": [
    {
     "name": "stdout",
     "output_type": "stream",
     "text": [
      "Fitting 1 folds for each of 3 candidates, totalling 3 fits\n",
      "[CV] alpha=0.01 ......................................................\n",
      "[CV] alpha=0.1 .......................................................\n",
      "[CV] alpha=1 .........................................................\n",
      "[CV] ..................... alpha=0.01, score=-13311382.777616 -   0.4s[CV] ...................... alpha=0.1, score=-12725796.242416 -   0.3s[CV] ........................ alpha=1, score=-12306375.768473 -   0.4s\n",
      "\n",
      "\n"
     ]
    },
    {
     "name": "stderr",
     "output_type": "stream",
     "text": [
      "[Parallel(n_jobs=-1)]: Done   4 out of   3 | elapsed:    0.9s remaining:   -0.2s\n",
      "[Parallel(n_jobs=-1)]: Done   4 out of   3 | elapsed:    0.9s remaining:   -0.2s\n",
      "[Parallel(n_jobs=-1)]: Done   3 out of   3 | elapsed:    0.9s finished\n",
      "/home/ubuntu/anaconda3/lib/python3.4/site-packages/sklearn/linear_model/sag.py:267: ConvergenceWarning: The max_iter was reached which means the coef_ did not converge\n",
      "  \"the coef_ did not converge\", ConvergenceWarning)\n",
      "/home/ubuntu/anaconda3/lib/python3.4/site-packages/sklearn/linear_model/sag.py:267: ConvergenceWarning: The max_iter was reached which means the coef_ did not converge\n",
      "  \"the coef_ did not converge\", ConvergenceWarning)\n",
      "/home/ubuntu/anaconda3/lib/python3.4/site-packages/sklearn/linear_model/sag.py:267: ConvergenceWarning: The max_iter was reached which means the coef_ did not converge\n",
      "  \"the coef_ did not converge\", ConvergenceWarning)\n"
     ]
    },
    {
     "data": {
      "text/plain": [
       "GridSearchCV(cv=ShuffleSplit(844392, n_iter=1, test_size=0.2, random_state=None),\n",
       "       error_score='raise',\n",
       "       estimator=Ridge(alpha=1.0, copy_X=True, fit_intercept=True, max_iter=None,\n",
       "   normalize=False, random_state=None, solver='auto', tol=0.001),\n",
       "       fit_params={}, iid=True, n_jobs=-1,\n",
       "       param_grid={'alpha': [0.01, 0.1, 1]}, pre_dispatch='2*n_jobs',\n",
       "       refit=False, scoring='mean_squared_error', verbose=10)"
      ]
     },
     "execution_count": 67,
     "metadata": {},
     "output_type": "execute_result"
    }
   ],
   "source": [
    "params = {'alpha':[0.01,0.1,1]}\n",
    "gs = grid_search.GridSearchCV(ridge,params,n_jobs=-1,refit=False,\n",
    "                              cv=cross_validation.ShuffleSplit(y.shape[0],n_iter=1,train_size=1,test_size=0.2),\n",
    "                              scoring='mean_squared_error',verbose=10)\n",
    "gs.fit(X,y)"
   ]
  },
  {
   "cell_type": "code",
   "execution_count": 68,
   "metadata": {
    "collapsed": false
   },
   "outputs": [
    {
     "data": {
      "text/plain": [
       "[mean: -13311382.77762, std: 0.00000, params: {'alpha': 0.01},\n",
       " mean: -12725796.24242, std: 0.00000, params: {'alpha': 0.1},\n",
       " mean: -12306375.76847, std: 0.00000, params: {'alpha': 1}]"
      ]
     },
     "execution_count": 68,
     "metadata": {},
     "output_type": "execute_result"
    }
   ],
   "source": [
    "gs.grid_scores_"
   ]
  },
  {
   "cell_type": "code",
   "execution_count": 69,
   "metadata": {
    "collapsed": false
   },
   "outputs": [
    {
     "data": {
      "text/plain": [
       "<844392x2093 sparse matrix of type '<class 'numpy.float64'>'\n",
       "\twith 9288312 stored elements in Compressed Sparse Row format>"
      ]
     },
     "execution_count": 69,
     "metadata": {},
     "output_type": "execute_result"
    }
   ],
   "source": [
    "X"
   ]
  },
  {
   "cell_type": "code",
   "execution_count": null,
   "metadata": {
    "collapsed": true
   },
   "outputs": [],
   "source": []
  },
  {
   "cell_type": "code",
   "execution_count": 72,
   "metadata": {
    "collapsed": false
   },
   "outputs": [],
   "source": [
    "X,y = get_X_y(df_train,df_store,y_log=True)"
   ]
  },
  {
   "cell_type": "code",
   "execution_count": 73,
   "metadata": {
    "collapsed": false
   },
   "outputs": [
    {
     "data": {
      "text/plain": [
       "0     8.568646\n",
       "1     8.521384\n",
       "2     8.472823\n",
       "3     8.519590\n",
       "4     8.716536\n",
       "5     8.381373\n",
       "6     8.217978\n",
       "7     8.234830\n",
       "8     8.150468\n",
       "9     8.177235\n",
       "10    8.388450\n",
       "11    8.390949\n",
       "12    8.487352\n",
       "13    8.395703\n",
       "14    8.469682\n",
       "...\n",
       "844377    8.505930\n",
       "844378    8.482602\n",
       "844379    8.513185\n",
       "844380    8.460411\n",
       "844381    8.623533\n",
       "844382    8.018296\n",
       "844383    8.751000\n",
       "844384    8.728102\n",
       "844385    8.769818\n",
       "844386    8.833463\n",
       "844387    9.136909\n",
       "844388    7.918992\n",
       "844389    8.343554\n",
       "844390    8.429673\n",
       "844391    8.532476\n",
       "Name: Sales, Length: 844392, dtype: float64"
      ]
     },
     "execution_count": 73,
     "metadata": {},
     "output_type": "execute_result"
    }
   ],
   "source": [
    "y"
   ]
  },
  {
   "cell_type": "code",
   "execution_count": 74,
   "metadata": {
    "collapsed": false
   },
   "outputs": [
    {
     "name": "stdout",
     "output_type": "stream",
     "text": [
      "Fitting 1 folds for each of 3 candidates, totalling 3 fits\n"
     ]
    },
    {
     "name": "stderr",
     "output_type": "stream",
     "text": [
      "[Parallel(n_jobs=-1)]: Done   4 out of   3 | elapsed:   47.1s remaining:  -11.8s\n",
      "[Parallel(n_jobs=-1)]: Done   4 out of   3 | elapsed:   48.6s remaining:  -12.2s\n",
      "[Parallel(n_jobs=-1)]: Done   3 out of   3 | elapsed:   48.6s finished\n"
     ]
    },
    {
     "name": "stdout",
     "output_type": "stream",
     "text": [
      "[CV] alpha=0.01 ......................................................\n",
      "[CV] alpha=0.1 .......................................................\n",
      "[CV] alpha=1 .........................................................\n",
      "[CV] ............................ alpha=0.01, score=-0.032358 -  38.7s[CV] ............................. alpha=0.1, score=-0.033799 -  48.2s[CV] ............................... alpha=1, score=-0.034586 -  46.6s\n",
      "\n",
      "\n"
     ]
    },
    {
     "data": {
      "text/plain": [
       "GridSearchCV(cv=ShuffleSplit(844392, n_iter=1, test_size=0.1, random_state=None),\n",
       "       error_score='raise',\n",
       "       estimator=Ridge(alpha=1.0, copy_X=True, fit_intercept=True, max_iter=None,\n",
       "   normalize=False, random_state=None, solver='auto', tol=0.001),\n",
       "       fit_params={}, iid=True, n_jobs=-1,\n",
       "       param_grid={'alpha': [0.01, 0.1, 1]}, pre_dispatch='2*n_jobs',\n",
       "       refit=False, scoring='mean_squared_error', verbose=10)"
      ]
     },
     "execution_count": 74,
     "metadata": {},
     "output_type": "execute_result"
    }
   ],
   "source": [
    "params = {'alpha':[0.01,0.1,1]}\n",
    "gs = grid_search.GridSearchCV(ridge,params,n_jobs=-1,refit=False,\n",
    "                              cv=cross_validation.ShuffleSplit(y.shape[0],n_iter=1,train_size=0.9,test_size=0.1),\n",
    "                              scoring='mean_squared_error',verbose=10)\n",
    "gs.fit(X,y)"
   ]
  },
  {
   "cell_type": "code",
   "execution_count": 75,
   "metadata": {
    "collapsed": false
   },
   "outputs": [
    {
     "data": {
      "text/plain": [
       "[mean: -0.03236, std: 0.00000, params: {'alpha': 0.01},\n",
       " mean: -0.03380, std: 0.00000, params: {'alpha': 0.1},\n",
       " mean: -0.03459, std: 0.00000, params: {'alpha': 1}]"
      ]
     },
     "execution_count": 75,
     "metadata": {},
     "output_type": "execute_result"
    }
   ],
   "source": [
    "gs.grid_scores_"
   ]
  },
  {
   "cell_type": "code",
   "execution_count": 76,
   "metadata": {
    "collapsed": false
   },
   "outputs": [
    {
     "name": "stdout",
     "output_type": "stream",
     "text": [
      "Fitting 1 folds for each of 3 candidates, totalling 3 fits\n"
     ]
    },
    {
     "name": "stderr",
     "output_type": "stream",
     "text": [
      "[Parallel(n_jobs=-1)]: Done   4 out of   3 | elapsed:   49.5s remaining:  -12.4s\n",
      "[Parallel(n_jobs=-1)]: Done   4 out of   3 | elapsed:   49.8s remaining:  -12.4s\n",
      "[Parallel(n_jobs=-1)]: Done   3 out of   3 | elapsed:   49.8s finished\n"
     ]
    },
    {
     "name": "stdout",
     "output_type": "stream",
     "text": [
      "[CV] alpha=0.0001 ....................................................\n",
      "[CV] alpha=0.001 .....................................................\n",
      "[CV] alpha=0.01 ......................................................\n",
      "[CV] .......................... alpha=0.0001, score=-0.036832 -  49.4s[CV] ........................... alpha=0.001, score=-0.035211 -  49.0s[CV] ............................ alpha=0.01, score=-0.035255 -  46.6s\n",
      "\n",
      "\n"
     ]
    },
    {
     "data": {
      "text/plain": [
       "GridSearchCV(cv=ShuffleSplit(844392, n_iter=1, test_size=0.1, random_state=None),\n",
       "       error_score='raise',\n",
       "       estimator=Ridge(alpha=1.0, copy_X=True, fit_intercept=True, max_iter=None,\n",
       "   normalize=False, random_state=None, solver='auto', tol=0.001),\n",
       "       fit_params={}, iid=True, n_jobs=-1,\n",
       "       param_grid={'alpha': [0.0001, 0.001, 0.01]},\n",
       "       pre_dispatch='2*n_jobs', refit=False, scoring='mean_squared_error',\n",
       "       verbose=10)"
      ]
     },
     "execution_count": 76,
     "metadata": {},
     "output_type": "execute_result"
    }
   ],
   "source": [
    "params = {'alpha':[0.0001,0.001,0.01]}\n",
    "gs = grid_search.GridSearchCV(ridge,params,n_jobs=-1,refit=False,\n",
    "                              cv=cross_validation.ShuffleSplit(y.shape[0],n_iter=1,train_size=0.9,test_size=0.1),\n",
    "                              scoring='mean_squared_error',verbose=10)\n",
    "gs.fit(X,y)"
   ]
  },
  {
   "cell_type": "code",
   "execution_count": 77,
   "metadata": {
    "collapsed": false
   },
   "outputs": [
    {
     "data": {
      "text/plain": [
       "[mean: -0.03683, std: 0.00000, params: {'alpha': 0.0001},\n",
       " mean: -0.03521, std: 0.00000, params: {'alpha': 0.001},\n",
       " mean: -0.03525, std: 0.00000, params: {'alpha': 0.01}]"
      ]
     },
     "execution_count": 77,
     "metadata": {},
     "output_type": "execute_result"
    }
   ],
   "source": [
    "gs.grid_scores_"
   ]
  },
  {
   "cell_type": "code",
   "execution_count": null,
   "metadata": {
    "collapsed": true
   },
   "outputs": [],
   "source": []
  },
  {
   "cell_type": "code",
   "execution_count": 90,
   "metadata": {
    "collapsed": true
   },
   "outputs": [],
   "source": [
    "X,y = get_X_y(df_train,df_store)"
   ]
  },
  {
   "cell_type": "code",
   "execution_count": 91,
   "metadata": {
    "collapsed": false
   },
   "outputs": [
    {
     "data": {
      "text/plain": [
       "0     5263\n",
       "1     5020\n",
       "2     4782\n",
       "3     5011\n",
       "4     6102\n",
       "5     4364\n",
       "6     3706\n",
       "7     3769\n",
       "8     3464\n",
       "9     3558\n",
       "10    4395\n",
       "11    4406\n",
       "12    4852\n",
       "13    4427\n",
       "14    4767\n",
       "...\n",
       "844377    4943\n",
       "844378    4829\n",
       "844379    4979\n",
       "844380    4723\n",
       "844381    5560\n",
       "844382    3035\n",
       "844383    6316\n",
       "844384    6173\n",
       "844385    6436\n",
       "844386    6859\n",
       "844387    9291\n",
       "844388    2748\n",
       "844389    4202\n",
       "844390    4580\n",
       "844391    5076\n",
       "Name: Sales, Length: 844392, dtype: int64"
      ]
     },
     "execution_count": 91,
     "metadata": {},
     "output_type": "execute_result"
    }
   ],
   "source": [
    "y"
   ]
  },
  {
   "cell_type": "code",
   "execution_count": 92,
   "metadata": {
    "collapsed": true
   },
   "outputs": [],
   "source": [
    "X_train, X_test, y_train, y_test = cross_validation.train_test_split(X,y,train_size=0.9,test_size=0.1)"
   ]
  },
  {
   "cell_type": "code",
   "execution_count": 94,
   "metadata": {
    "collapsed": true
   },
   "outputs": [],
   "source": [
    "ridge = linear_model.Ridge(alpha=0.01)"
   ]
  },
  {
   "cell_type": "code",
   "execution_count": 95,
   "metadata": {
    "collapsed": false
   },
   "outputs": [
    {
     "data": {
      "text/plain": [
       "Ridge(alpha=0.01, copy_X=True, fit_intercept=True, max_iter=None,\n",
       "   normalize=False, random_state=None, solver='auto', tol=0.001)"
      ]
     },
     "execution_count": 95,
     "metadata": {},
     "output_type": "execute_result"
    }
   ],
   "source": [
    "ridge.fit(X_train,np.log1p(y_train))"
   ]
  },
  {
   "cell_type": "code",
   "execution_count": 96,
   "metadata": {
    "collapsed": true
   },
   "outputs": [],
   "source": [
    "from sklearn import metrics"
   ]
  },
  {
   "cell_type": "code",
   "execution_count": 97,
   "metadata": {
    "collapsed": false
   },
   "outputs": [
    {
     "data": {
      "text/plain": [
       "57768561.981123015"
      ]
     },
     "execution_count": 97,
     "metadata": {},
     "output_type": "execute_result"
    }
   ],
   "source": [
    "metrics.mean_squared_error(ridge.predict(X_test),y_test)"
   ]
  },
  {
   "cell_type": "code",
   "execution_count": 102,
   "metadata": {
    "collapsed": false
   },
   "outputs": [
    {
     "name": "stdout",
     "output_type": "stream",
     "text": [
      "Fitting 1 folds for each of 1 candidates, totalling 1 fits\n",
      "[CV] max_depth=None, min_samples_split=2, n_estimators=10 ............\n"
     ]
    },
    {
     "ename": "KeyboardInterrupt",
     "evalue": "",
     "output_type": "error",
     "traceback": [
      "\u001b[1;31m---------------------------------------------------------------------------\u001b[0m",
      "\u001b[1;31mKeyboardInterrupt\u001b[0m                         Traceback (most recent call last)",
      "\u001b[1;32m<ipython-input-102-e7ac78007a63>\u001b[0m in \u001b[0;36m<module>\u001b[1;34m()\u001b[0m\n\u001b[0;32m      5\u001b[0m                               \u001b[0mcv\u001b[0m\u001b[1;33m=\u001b[0m\u001b[0mcross_validation\u001b[0m\u001b[1;33m.\u001b[0m\u001b[0mShuffleSplit\u001b[0m\u001b[1;33m(\u001b[0m\u001b[0my\u001b[0m\u001b[1;33m.\u001b[0m\u001b[0mshape\u001b[0m\u001b[1;33m[\u001b[0m\u001b[1;36m0\u001b[0m\u001b[1;33m]\u001b[0m\u001b[1;33m,\u001b[0m\u001b[0mn_iter\u001b[0m\u001b[1;33m=\u001b[0m\u001b[1;36m1\u001b[0m\u001b[1;33m,\u001b[0m\u001b[0mtrain_size\u001b[0m\u001b[1;33m=\u001b[0m\u001b[1;36m0.8\u001b[0m\u001b[1;33m,\u001b[0m\u001b[0mtest_size\u001b[0m\u001b[1;33m=\u001b[0m\u001b[1;36m0.1\u001b[0m\u001b[1;33m)\u001b[0m\u001b[1;33m,\u001b[0m\u001b[1;33m\u001b[0m\u001b[0m\n\u001b[0;32m      6\u001b[0m                               scoring='mean_squared_error',verbose=10)\n\u001b[1;32m----> 7\u001b[1;33m \u001b[0mgs\u001b[0m\u001b[1;33m.\u001b[0m\u001b[0mfit\u001b[0m\u001b[1;33m(\u001b[0m\u001b[0mX\u001b[0m\u001b[1;33m,\u001b[0m\u001b[0mnp\u001b[0m\u001b[1;33m.\u001b[0m\u001b[0mlog1p\u001b[0m\u001b[1;33m(\u001b[0m\u001b[0my\u001b[0m\u001b[1;33m)\u001b[0m\u001b[1;33m)\u001b[0m\u001b[1;33m\u001b[0m\u001b[0m\n\u001b[0m",
      "\u001b[1;32m/home/ubuntu/anaconda3/lib/python3.4/site-packages/sklearn/grid_search.py\u001b[0m in \u001b[0;36mfit\u001b[1;34m(self, X, y)\u001b[0m\n\u001b[0;32m    802\u001b[0m \u001b[1;33m\u001b[0m\u001b[0m\n\u001b[0;32m    803\u001b[0m         \"\"\"\n\u001b[1;32m--> 804\u001b[1;33m         \u001b[1;32mreturn\u001b[0m \u001b[0mself\u001b[0m\u001b[1;33m.\u001b[0m\u001b[0m_fit\u001b[0m\u001b[1;33m(\u001b[0m\u001b[0mX\u001b[0m\u001b[1;33m,\u001b[0m \u001b[0my\u001b[0m\u001b[1;33m,\u001b[0m \u001b[0mParameterGrid\u001b[0m\u001b[1;33m(\u001b[0m\u001b[0mself\u001b[0m\u001b[1;33m.\u001b[0m\u001b[0mparam_grid\u001b[0m\u001b[1;33m)\u001b[0m\u001b[1;33m)\u001b[0m\u001b[1;33m\u001b[0m\u001b[0m\n\u001b[0m\u001b[0;32m    805\u001b[0m \u001b[1;33m\u001b[0m\u001b[0m\n\u001b[0;32m    806\u001b[0m \u001b[1;33m\u001b[0m\u001b[0m\n",
      "\u001b[1;32m/home/ubuntu/anaconda3/lib/python3.4/site-packages/sklearn/grid_search.py\u001b[0m in \u001b[0;36m_fit\u001b[1;34m(self, X, y, parameter_iterable)\u001b[0m\n\u001b[0;32m    551\u001b[0m                                     \u001b[0mself\u001b[0m\u001b[1;33m.\u001b[0m\u001b[0mfit_params\u001b[0m\u001b[1;33m,\u001b[0m \u001b[0mreturn_parameters\u001b[0m\u001b[1;33m=\u001b[0m\u001b[1;32mTrue\u001b[0m\u001b[1;33m,\u001b[0m\u001b[1;33m\u001b[0m\u001b[0m\n\u001b[0;32m    552\u001b[0m                                     error_score=self.error_score)\n\u001b[1;32m--> 553\u001b[1;33m                 \u001b[1;32mfor\u001b[0m \u001b[0mparameters\u001b[0m \u001b[1;32min\u001b[0m \u001b[0mparameter_iterable\u001b[0m\u001b[1;33m\u001b[0m\u001b[0m\n\u001b[0m\u001b[0;32m    554\u001b[0m                 for train, test in cv)\n\u001b[0;32m    555\u001b[0m \u001b[1;33m\u001b[0m\u001b[0m\n",
      "\u001b[1;32m/home/ubuntu/anaconda3/lib/python3.4/site-packages/sklearn/externals/joblib/parallel.py\u001b[0m in \u001b[0;36m__call__\u001b[1;34m(self, iterable)\u001b[0m\n\u001b[0;32m    810\u001b[0m                 \u001b[1;31m# consumption.\u001b[0m\u001b[1;33m\u001b[0m\u001b[1;33m\u001b[0m\u001b[0m\n\u001b[0;32m    811\u001b[0m                 \u001b[0mself\u001b[0m\u001b[1;33m.\u001b[0m\u001b[0m_iterating\u001b[0m \u001b[1;33m=\u001b[0m \u001b[1;32mFalse\u001b[0m\u001b[1;33m\u001b[0m\u001b[0m\n\u001b[1;32m--> 812\u001b[1;33m             \u001b[0mself\u001b[0m\u001b[1;33m.\u001b[0m\u001b[0mretrieve\u001b[0m\u001b[1;33m(\u001b[0m\u001b[1;33m)\u001b[0m\u001b[1;33m\u001b[0m\u001b[0m\n\u001b[0m\u001b[0;32m    813\u001b[0m             \u001b[1;31m# Make sure that we get a last message telling us we are done\u001b[0m\u001b[1;33m\u001b[0m\u001b[1;33m\u001b[0m\u001b[0m\n\u001b[0;32m    814\u001b[0m             \u001b[0melapsed_time\u001b[0m \u001b[1;33m=\u001b[0m \u001b[0mtime\u001b[0m\u001b[1;33m.\u001b[0m\u001b[0mtime\u001b[0m\u001b[1;33m(\u001b[0m\u001b[1;33m)\u001b[0m \u001b[1;33m-\u001b[0m \u001b[0mself\u001b[0m\u001b[1;33m.\u001b[0m\u001b[0m_start_time\u001b[0m\u001b[1;33m\u001b[0m\u001b[0m\n",
      "\u001b[1;32m/home/ubuntu/anaconda3/lib/python3.4/site-packages/sklearn/externals/joblib/parallel.py\u001b[0m in \u001b[0;36mretrieve\u001b[1;34m(self)\u001b[0m\n\u001b[0;32m    760\u001b[0m                         \u001b[1;31m# a working pool as they expect.\u001b[0m\u001b[1;33m\u001b[0m\u001b[1;33m\u001b[0m\u001b[0m\n\u001b[0;32m    761\u001b[0m                         \u001b[0mself\u001b[0m\u001b[1;33m.\u001b[0m\u001b[0m_initialize_pool\u001b[0m\u001b[1;33m(\u001b[0m\u001b[1;33m)\u001b[0m\u001b[1;33m\u001b[0m\u001b[0m\n\u001b[1;32m--> 762\u001b[1;33m                 \u001b[1;32mraise\u001b[0m \u001b[0mexception\u001b[0m\u001b[1;33m\u001b[0m\u001b[0m\n\u001b[0m\u001b[0;32m    763\u001b[0m \u001b[1;33m\u001b[0m\u001b[0m\n\u001b[0;32m    764\u001b[0m     \u001b[1;32mdef\u001b[0m \u001b[0m__call__\u001b[0m\u001b[1;33m(\u001b[0m\u001b[0mself\u001b[0m\u001b[1;33m,\u001b[0m \u001b[0miterable\u001b[0m\u001b[1;33m)\u001b[0m\u001b[1;33m:\u001b[0m\u001b[1;33m\u001b[0m\u001b[0m\n",
      "\u001b[1;32m/home/ubuntu/anaconda3/lib/python3.4/site-packages/sklearn/externals/joblib/parallel.py\u001b[0m in \u001b[0;36mretrieve\u001b[1;34m(self)\u001b[0m\n\u001b[0;32m    729\u001b[0m                 \u001b[0mjob\u001b[0m \u001b[1;33m=\u001b[0m \u001b[0mself\u001b[0m\u001b[1;33m.\u001b[0m\u001b[0m_jobs\u001b[0m\u001b[1;33m.\u001b[0m\u001b[0mpop\u001b[0m\u001b[1;33m(\u001b[0m\u001b[1;36m0\u001b[0m\u001b[1;33m)\u001b[0m\u001b[1;33m\u001b[0m\u001b[0m\n\u001b[0;32m    730\u001b[0m             \u001b[1;32mtry\u001b[0m\u001b[1;33m:\u001b[0m\u001b[1;33m\u001b[0m\u001b[0m\n\u001b[1;32m--> 731\u001b[1;33m                 \u001b[0mself\u001b[0m\u001b[1;33m.\u001b[0m\u001b[0m_output\u001b[0m\u001b[1;33m.\u001b[0m\u001b[0mextend\u001b[0m\u001b[1;33m(\u001b[0m\u001b[0mjob\u001b[0m\u001b[1;33m.\u001b[0m\u001b[0mget\u001b[0m\u001b[1;33m(\u001b[0m\u001b[1;33m)\u001b[0m\u001b[1;33m)\u001b[0m\u001b[1;33m\u001b[0m\u001b[0m\n\u001b[0m\u001b[0;32m    732\u001b[0m             \u001b[1;32mexcept\u001b[0m \u001b[0mtuple\u001b[0m\u001b[1;33m(\u001b[0m\u001b[0mself\u001b[0m\u001b[1;33m.\u001b[0m\u001b[0mexceptions\u001b[0m\u001b[1;33m)\u001b[0m \u001b[1;32mas\u001b[0m \u001b[0mexception\u001b[0m\u001b[1;33m:\u001b[0m\u001b[1;33m\u001b[0m\u001b[0m\n\u001b[0;32m    733\u001b[0m                 \u001b[1;31m# Stop dispatching any new job in the async callback thread\u001b[0m\u001b[1;33m\u001b[0m\u001b[1;33m\u001b[0m\u001b[0m\n",
      "\u001b[1;32m/home/ubuntu/anaconda3/lib/python3.4/multiprocessing/pool.py\u001b[0m in \u001b[0;36mget\u001b[1;34m(self, timeout)\u001b[0m\n\u001b[0;32m    591\u001b[0m \u001b[1;33m\u001b[0m\u001b[0m\n\u001b[0;32m    592\u001b[0m     \u001b[1;32mdef\u001b[0m \u001b[0mget\u001b[0m\u001b[1;33m(\u001b[0m\u001b[0mself\u001b[0m\u001b[1;33m,\u001b[0m \u001b[0mtimeout\u001b[0m\u001b[1;33m=\u001b[0m\u001b[1;32mNone\u001b[0m\u001b[1;33m)\u001b[0m\u001b[1;33m:\u001b[0m\u001b[1;33m\u001b[0m\u001b[0m\n\u001b[1;32m--> 593\u001b[1;33m         \u001b[0mself\u001b[0m\u001b[1;33m.\u001b[0m\u001b[0mwait\u001b[0m\u001b[1;33m(\u001b[0m\u001b[0mtimeout\u001b[0m\u001b[1;33m)\u001b[0m\u001b[1;33m\u001b[0m\u001b[0m\n\u001b[0m\u001b[0;32m    594\u001b[0m         \u001b[1;32mif\u001b[0m \u001b[1;32mnot\u001b[0m \u001b[0mself\u001b[0m\u001b[1;33m.\u001b[0m\u001b[0mready\u001b[0m\u001b[1;33m(\u001b[0m\u001b[1;33m)\u001b[0m\u001b[1;33m:\u001b[0m\u001b[1;33m\u001b[0m\u001b[0m\n\u001b[0;32m    595\u001b[0m             \u001b[1;32mraise\u001b[0m \u001b[0mTimeoutError\u001b[0m\u001b[1;33m\u001b[0m\u001b[0m\n",
      "\u001b[1;32m/home/ubuntu/anaconda3/lib/python3.4/multiprocessing/pool.py\u001b[0m in \u001b[0;36mwait\u001b[1;34m(self, timeout)\u001b[0m\n\u001b[0;32m    588\u001b[0m \u001b[1;33m\u001b[0m\u001b[0m\n\u001b[0;32m    589\u001b[0m     \u001b[1;32mdef\u001b[0m \u001b[0mwait\u001b[0m\u001b[1;33m(\u001b[0m\u001b[0mself\u001b[0m\u001b[1;33m,\u001b[0m \u001b[0mtimeout\u001b[0m\u001b[1;33m=\u001b[0m\u001b[1;32mNone\u001b[0m\u001b[1;33m)\u001b[0m\u001b[1;33m:\u001b[0m\u001b[1;33m\u001b[0m\u001b[0m\n\u001b[1;32m--> 590\u001b[1;33m         \u001b[0mself\u001b[0m\u001b[1;33m.\u001b[0m\u001b[0m_event\u001b[0m\u001b[1;33m.\u001b[0m\u001b[0mwait\u001b[0m\u001b[1;33m(\u001b[0m\u001b[0mtimeout\u001b[0m\u001b[1;33m)\u001b[0m\u001b[1;33m\u001b[0m\u001b[0m\n\u001b[0m\u001b[0;32m    591\u001b[0m \u001b[1;33m\u001b[0m\u001b[0m\n\u001b[0;32m    592\u001b[0m     \u001b[1;32mdef\u001b[0m \u001b[0mget\u001b[0m\u001b[1;33m(\u001b[0m\u001b[0mself\u001b[0m\u001b[1;33m,\u001b[0m \u001b[0mtimeout\u001b[0m\u001b[1;33m=\u001b[0m\u001b[1;32mNone\u001b[0m\u001b[1;33m)\u001b[0m\u001b[1;33m:\u001b[0m\u001b[1;33m\u001b[0m\u001b[0m\n",
      "\u001b[1;32m/home/ubuntu/anaconda3/lib/python3.4/threading.py\u001b[0m in \u001b[0;36mwait\u001b[1;34m(self, timeout)\u001b[0m\n\u001b[0;32m    551\u001b[0m             \u001b[0msignaled\u001b[0m \u001b[1;33m=\u001b[0m \u001b[0mself\u001b[0m\u001b[1;33m.\u001b[0m\u001b[0m_flag\u001b[0m\u001b[1;33m\u001b[0m\u001b[0m\n\u001b[0;32m    552\u001b[0m             \u001b[1;32mif\u001b[0m \u001b[1;32mnot\u001b[0m \u001b[0msignaled\u001b[0m\u001b[1;33m:\u001b[0m\u001b[1;33m\u001b[0m\u001b[0m\n\u001b[1;32m--> 553\u001b[1;33m                 \u001b[0msignaled\u001b[0m \u001b[1;33m=\u001b[0m \u001b[0mself\u001b[0m\u001b[1;33m.\u001b[0m\u001b[0m_cond\u001b[0m\u001b[1;33m.\u001b[0m\u001b[0mwait\u001b[0m\u001b[1;33m(\u001b[0m\u001b[0mtimeout\u001b[0m\u001b[1;33m)\u001b[0m\u001b[1;33m\u001b[0m\u001b[0m\n\u001b[0m\u001b[0;32m    554\u001b[0m             \u001b[1;32mreturn\u001b[0m \u001b[0msignaled\u001b[0m\u001b[1;33m\u001b[0m\u001b[0m\n\u001b[0;32m    555\u001b[0m         \u001b[1;32mfinally\u001b[0m\u001b[1;33m:\u001b[0m\u001b[1;33m\u001b[0m\u001b[0m\n",
      "\u001b[1;32m/home/ubuntu/anaconda3/lib/python3.4/threading.py\u001b[0m in \u001b[0;36mwait\u001b[1;34m(self, timeout)\u001b[0m\n\u001b[0;32m    288\u001b[0m         \u001b[1;32mtry\u001b[0m\u001b[1;33m:\u001b[0m    \u001b[1;31m# restore state no matter what (e.g., KeyboardInterrupt)\u001b[0m\u001b[1;33m\u001b[0m\u001b[0m\n\u001b[0;32m    289\u001b[0m             \u001b[1;32mif\u001b[0m \u001b[0mtimeout\u001b[0m \u001b[1;32mis\u001b[0m \u001b[1;32mNone\u001b[0m\u001b[1;33m:\u001b[0m\u001b[1;33m\u001b[0m\u001b[0m\n\u001b[1;32m--> 290\u001b[1;33m                 \u001b[0mwaiter\u001b[0m\u001b[1;33m.\u001b[0m\u001b[0macquire\u001b[0m\u001b[1;33m(\u001b[0m\u001b[1;33m)\u001b[0m\u001b[1;33m\u001b[0m\u001b[0m\n\u001b[0m\u001b[0;32m    291\u001b[0m                 \u001b[0mgotit\u001b[0m \u001b[1;33m=\u001b[0m \u001b[1;32mTrue\u001b[0m\u001b[1;33m\u001b[0m\u001b[0m\n\u001b[0;32m    292\u001b[0m             \u001b[1;32melse\u001b[0m\u001b[1;33m:\u001b[0m\u001b[1;33m\u001b[0m\u001b[0m\n",
      "\u001b[1;31mKeyboardInterrupt\u001b[0m: "
     ]
    }
   ],
   "source": [
    "params = {'n_estimators':[10],\n",
    "          'max_depth':[None],\n",
    "          'min_samples_split':[2]}\n",
    "gs = grid_search.GridSearchCV(rf,params,n_jobs=-1,refit=False,\n",
    "                              cv=cross_validation.ShuffleSplit(y.shape[0],n_iter=1,train_size=0.8,test_size=0.1),\n",
    "                              scoring='mean_squared_error',verbose=10)\n",
    "gs.fit(X,np.log1p(y))"
   ]
  },
  {
   "cell_type": "code",
   "execution_count": null,
   "metadata": {
    "collapsed": false
   },
   "outputs": [],
   "source": [
    "gs.grid_scores_"
   ]
  },
  {
   "cell_type": "code",
   "execution_count": null,
   "metadata": {
    "collapsed": true
   },
   "outputs": [],
   "source": []
  }
 ],
 "metadata": {
  "kernelspec": {
   "display_name": "Python 3",
   "language": "python",
   "name": "python3"
  },
  "language_info": {
   "codemirror_mode": {
    "name": "ipython",
    "version": 3
   },
   "file_extension": ".py",
   "mimetype": "text/x-python",
   "name": "python",
   "nbconvert_exporter": "python",
   "pygments_lexer": "ipython3",
   "version": "3.4.3"
  }
 },
 "nbformat": 4,
 "nbformat_minor": 0
}
